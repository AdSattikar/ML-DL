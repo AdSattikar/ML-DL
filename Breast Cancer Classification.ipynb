{
 "cells": [
  {
   "cell_type": "code",
   "execution_count": 25,
   "id": "80bbea77",
   "metadata": {},
   "outputs": [],
   "source": [
    "#Importing required libraries\n",
    "\n",
    "from sklearn.datasets import load_breast_cancer\n",
    "from sklearn.tree import DecisionTreeClassifier\n",
    "from sklearn import tree\n",
    "from sklearn.model_selection import train_test_split\n",
    "from sklearn import metrics\n"
   ]
  },
  {
   "cell_type": "code",
   "execution_count": 26,
   "id": "f55030fc",
   "metadata": {},
   "outputs": [
    {
     "name": "stdout",
     "output_type": "stream",
     "text": [
      "Classes to predict:  ['malignant' 'benign']\n",
      "Classes features:  ['mean radius' 'mean texture' 'mean perimeter' 'mean area'\n",
      " 'mean smoothness' 'mean compactness' 'mean concavity'\n",
      " 'mean concave points' 'mean symmetry' 'mean fractal dimension'\n",
      " 'radius error' 'texture error' 'perimeter error' 'area error'\n",
      " 'smoothness error' 'compactness error' 'concavity error'\n",
      " 'concave points error' 'symmetry error' 'fractal dimension error'\n",
      " 'worst radius' 'worst texture' 'worst perimeter' 'worst area'\n",
      " 'worst smoothness' 'worst compactness' 'worst concavity'\n",
      " 'worst concave points' 'worst symmetry' 'worst fractal dimension']\n"
     ]
    }
   ],
   "source": [
    "#Loading the cancer data\n",
    "\n",
    "data = load_breast_cancer()\n",
    "print('Classes to predict: ', data.target_names)\n",
    "print('Classes features: ', data.feature_names)\n"
   ]
  },
  {
   "cell_type": "code",
   "execution_count": 27,
   "id": "523077c6",
   "metadata": {},
   "outputs": [
    {
     "name": "stdout",
     "output_type": "stream",
     "text": [
      "Number of examples in the data: (569, 30)\n"
     ]
    }
   ],
   "source": [
    "#Extracting data attributes\n",
    "X = data.data\n",
    "#Extracting target/ class labels\n",
    "y = data.target\n",
    "print('Number of examples in the data:', X.shape)"
   ]
  },
  {
   "cell_type": "code",
   "execution_count": 28,
   "id": "241aadcf",
   "metadata": {},
   "outputs": [],
   "source": [
    "#Using the train_test_split to create train and test sets.\n",
    "X_train, X_test, y_train, y_test = train_test_split(X, y, random_state = 42, train_size = 0.7)"
   ]
  },
  {
   "cell_type": "code",
   "execution_count": 29,
   "id": "59fb5c67",
   "metadata": {},
   "outputs": [],
   "source": [
    "#Importing the Decision tree classifier from the sklearn library.\n",
    "#from sklearn.tree import DecisionTreeClassifier\n",
    "\n",
    "clf = DecisionTreeClassifier()\n"
   ]
  },
  {
   "cell_type": "code",
   "execution_count": 30,
   "id": "aa1f99da",
   "metadata": {},
   "outputs": [],
   "source": [
    "#Training the decision tree classifier. \n",
    "clf.fit(X_train, y_train)\n",
    "#Predicting labels on the test set.\n",
    "y_pred =  clf.predict(X_test)"
   ]
  },
  {
   "cell_type": "code",
   "execution_count": 31,
   "id": "64cea9f2",
   "metadata": {
    "scrolled": true
   },
   "outputs": [
    {
     "name": "stdout",
     "output_type": "stream",
     "text": [
      "Accuracy Score on train data:  100.0\n",
      "Accuracy Score on test data:  92.98245614035088\n"
     ]
    }
   ],
   "source": [
    "#Importing the accuracy metric from sklearn.metrics library\n",
    "\n",
    "from sklearn.metrics import accuracy_score\n",
    "print('Accuracy Score on train data: ', accuracy_score(y_true=y_train, y_pred=clf.predict(X_train))*100)\n",
    "print('Accuracy Score on test data: ', accuracy_score(y_true=y_test, y_pred=y_pred)*100)\n"
   ]
  },
  {
   "cell_type": "code",
   "execution_count": 32,
   "id": "aac3bc15",
   "metadata": {
    "scrolled": true
   },
   "outputs": [
    {
     "name": "stdout",
     "output_type": "stream",
     "text": [
      "[[ 58   5]\n",
      " [  7 101]]\n"
     ]
    }
   ],
   "source": [
    "from sklearn.metrics import classification_report, confusion_matrix\n",
    "cm = confusion_matrix(y_test, y_pred)\n",
    "\n",
    "print(cm)"
   ]
  },
  {
   "cell_type": "markdown",
   "id": "b83ef3ce",
   "metadata": {},
   "source": [
    "Sensitivity (also known as recall or true positive rate) is the proportion of actual positives that are correctly identified by the classifier.\n",
    "It is computed as: sensitivity = true positives / (true positives + false negatives)"
   ]
  },
  {
   "cell_type": "markdown",
   "id": "d9f8f197",
   "metadata": {},
   "source": [
    "Specificity (also known as true negative rate) is the proportion of actual negatives that are correctly identified by the classifier. \n",
    "It is computed as: specificity = true negatives / (true negatives + false positives)"
   ]
  },
  {
   "cell_type": "code",
   "execution_count": 33,
   "id": "b092b474",
   "metadata": {},
   "outputs": [
    {
     "name": "stdout",
     "output_type": "stream",
     "text": [
      "Sensitivity: 0.9351851851851852\n",
      "Specificity: 0.9206349206349206\n"
     ]
    }
   ],
   "source": [
    "# Extract true positives, false positives, true negatives, false negatives\n",
    "tn, fp, fn, tp = cm.ravel()\n",
    "\n",
    "# Compute sensitivity and specificity\n",
    "sensitivity = tp / (tp + fn)\n",
    "specificity = tn / (tn + fp)\n",
    "\n",
    "print(\"Sensitivity:\", sensitivity)\n",
    "print(\"Specificity:\", specificity)"
   ]
  },
  {
   "cell_type": "markdown",
   "id": "42ef7aae",
   "metadata": {},
   "source": [
    "We use the ravel function to flatten the matrix into a 1D array, which contains the true negatives, false positives, false negatives, and true positives in that order. We then extract these values and use them to compute sensitivity and specificity."
   ]
  },
  {
   "cell_type": "markdown",
   "id": "8624ba6a",
   "metadata": {},
   "source": [
    "The sensitivity score is 0.9259 or approximately 92.59%, indicating that the classifier is able to correctly identify 92.59% of all malignant cases.\n",
    "\n",
    "The specificity score is 0.9206 or approximately 92.06%, indicating that the classifier is able to correctly identify 92.06% of all benign cases.\n",
    "\n",
    "These scores suggest that the classifier is performing well and is able to distinguish between malignant and benign cases with a high degree of accuracy."
   ]
  },
  {
   "cell_type": "code",
   "execution_count": 34,
   "id": "f76365cf",
   "metadata": {},
   "outputs": [
    {
     "name": "stdout",
     "output_type": "stream",
     "text": [
      "20MIC0124 Adnan Sattikar\n",
      "              precision    recall  f1-score   support\n",
      "\n",
      "           0       0.89      0.92      0.91        63\n",
      "           1       0.95      0.94      0.94       108\n",
      "\n",
      "    accuracy                           0.93       171\n",
      "   macro avg       0.92      0.93      0.93       171\n",
      "weighted avg       0.93      0.93      0.93       171\n",
      "\n"
     ]
    }
   ],
   "source": [
    "print(\"20MIC0124 Adnan Sattikar\")\n",
    "print(classification_report(y_test, y_pred))"
   ]
  },
  {
   "cell_type": "markdown",
   "id": "545b74d3",
   "metadata": {},
   "source": [
    "From this report, we can see that the precision and recall scores are high for both classes, indicating good performance of the classifier. "
   ]
  },
  {
   "cell_type": "code",
   "execution_count": 35,
   "id": "16eb5a72",
   "metadata": {
    "scrolled": true
   },
   "outputs": [
    {
     "name": "stdout",
     "output_type": "stream",
     "text": [
      "Accuracy Score on train data:  92.96482412060301\n",
      "Accuracy Score on the test data:  91.22807017543859\n"
     ]
    }
   ],
   "source": [
    "#Next, we will tune the parameters of the decision tree to increase its accuracy.\n",
    "#One of those parameters is 'min_samples_split', which is the minimum number of samples required to split an internal node. \n",
    "#Its default value is equal to 2 because we cannot split on a node containing only one example/ sample.\n",
    "\n",
    "clf = DecisionTreeClassifier(criterion='entropy', min_samples_split=50)\n",
    "clf.fit(X_train, y_train)\n",
    "print('Accuracy Score on train data: ', accuracy_score(y_true=y_train, y_pred=clf.predict(X_train))*100)\n",
    "print('Accuracy Score on the test data: ', accuracy_score(y_true=y_test, y_pred=clf.predict(X_test))*100)"
   ]
  },
  {
   "cell_type": "markdown",
   "id": "27220740",
   "metadata": {},
   "source": [
    "The accuracy scores suggest that the decision tree classifier is performing reasonably well on both the training and test sets.\n",
    "The accuracy score on the training data is 92.96%, indicating that the classifier is able to correctly predict the class labels for the majority of the examples in the training set.\n",
    "The accuracy score on the test data is 91.81%, indicating that the classifier is able to generalize well to new, unseen examples."
   ]
  },
  {
   "cell_type": "code",
   "execution_count": 37,
   "id": "20bbd41b",
   "metadata": {},
   "outputs": [
    {
     "data": {
      "text/plain": [
       "[Text(0.6, 0.9, 'mean concave points <= 0.051\\nentropy = 0.954\\nsamples = 398\\nvalue = [149, 249]'),\n",
       " Text(0.4, 0.7, 'worst radius <= 16.83\\nentropy = 0.299\\nsamples = 245\\nvalue = [13, 232]'),\n",
       " Text(0.3, 0.5, 'radius error <= 0.626\\nentropy = 0.151\\nsamples = 230\\nvalue = [5, 225]'),\n",
       " Text(0.2, 0.3, 'worst texture <= 30.145\\nentropy = 0.101\\nsamples = 227\\nvalue = [3, 224]'),\n",
       " Text(0.1, 0.1, 'entropy = 0.0\\nsamples = 197\\nvalue = [0, 197]'),\n",
       " Text(0.3, 0.1, 'entropy = 0.469\\nsamples = 30\\nvalue = [3, 27]'),\n",
       " Text(0.4, 0.3, 'entropy = 0.918\\nsamples = 3\\nvalue = [2, 1]'),\n",
       " Text(0.5, 0.5, 'entropy = 0.997\\nsamples = 15\\nvalue = [8, 7]'),\n",
       " Text(0.8, 0.7, 'worst perimeter <= 114.45\\nentropy = 0.503\\nsamples = 153\\nvalue = [136, 17]'),\n",
       " Text(0.7, 0.5, 'entropy = 0.988\\nsamples = 39\\nvalue = [22, 17]'),\n",
       " Text(0.9, 0.5, 'entropy = 0.0\\nsamples = 114\\nvalue = [114, 0]')]"
      ]
     },
     "execution_count": 37,
     "metadata": {},
     "output_type": "execute_result"
    },
    {
     "data": {
      "image/png": "[encoded data removed]",
      "text/plain": [
       "<Figure size 640x480 with 1 Axes>"
      ]
     },
     "metadata": {},
     "output_type": "display_data"
    }
   ],
   "source": [
    "tree.plot_tree(clf,feature_names=data.feature_names)"
   ]
  },
  {
   "cell_type": "code",
   "execution_count": null,
   "id": "a896a482",
   "metadata": {},
   "outputs": [],
   "source": []
  }
 ],
 "metadata": {
  "kernelspec": {
   "display_name": "Python 3 (ipykernel)",
   "language": "python",
   "name": "python3"
  },
  "language_info": {
   "codemirror_mode": {
    "name": "ipython",
    "version": 3
   },
   "file_extension": ".py",
   "mimetype": "text/x-python",
   "name": "python",
   "nbconvert_exporter": "python",
   "pygments_lexer": "ipython3",
   "version": "3.9.0"
  }
 },
 "nbformat": 4,
 "nbformat_minor": 5
}
